{
 "cells": [
  {
   "cell_type": "code",
   "execution_count": 24,
   "id": "05412165-0816-4b83-8343-3cc29b594ed9",
   "metadata": {},
   "outputs": [],
   "source": [
    "#В качестве датасета выбран набор данных о винах: https://www.kaggle.com/datasets/zynicide/wine-reviews\n",
    "#нужно создать модели МО, используя регрессию, классификацию, кластеризацию\n",
    "\n",
    "# Загружаем библиотеки\n",
    "import numpy as np # работа с векторами\n",
    "import matplotlib.pyplot as plt # рисовать графики\n",
    "import pandas as pd # для работы с табличная\n",
    "import sklearn # машинное обучение на python\n",
    "import seaborn as sns\n",
    "from sklearn.preprocessing import LabelEncoder, MinMaxScaler\n",
    "from sklearn.model_selection import train_test_split\n",
    "from sklearn.linear_model import LinearRegression, LogisticRegression\n",
    "from sklearn.metrics import mean_squared_error, r2_score, accuracy_score, classification_report, confusion_matrix\n",
    "from sklearn.ensemble import RandomForestRegressor, RandomForestClassifier\n",
    "from sklearn.neighbors import KNeighborsClassifier\n",
    "from sklearn.cluster import KMeans"
   ]
  },
  {
   "cell_type": "code",
   "execution_count": 6,
   "id": "a7fcc40b-bb50-48bb-868d-544d51548a5d",
   "metadata": {},
   "outputs": [
    {
     "name": "stdout",
     "output_type": "stream",
     "text": [
      "<class 'pandas.core.frame.DataFrame'>\n",
      "RangeIndex: 150930 entries, 0 to 150929\n",
      "Data columns (total 11 columns):\n",
      " #   Column       Non-Null Count   Dtype  \n",
      "---  ------       --------------   -----  \n",
      " 0   Unnamed: 0   150930 non-null  int64  \n",
      " 1   country      150925 non-null  object \n",
      " 2   description  150930 non-null  object \n",
      " 3   designation  105195 non-null  object \n",
      " 4   points       150930 non-null  int64  \n",
      " 5   price        137235 non-null  float64\n",
      " 6   province     150925 non-null  object \n",
      " 7   region_1     125870 non-null  object \n",
      " 8   region_2     60953 non-null   object \n",
      " 9   variety      150930 non-null  object \n",
      " 10  winery       150930 non-null  object \n",
      "dtypes: float64(1), int64(2), object(8)\n",
      "memory usage: 12.7+ MB\n"
     ]
    }
   ],
   "source": [
    "# загружаем данные\n",
    "dataset = pd.read_csv('winemag-data_first150k.csv')\n",
    "dataset.info()"
   ]
  },
  {
   "cell_type": "markdown",
   "id": "b4c7c06d-4045-4cd7-88ad-f1ad865bbd22",
   "metadata": {},
   "source": [
    "## Обработка данных"
   ]
  },
  {
   "cell_type": "markdown",
   "id": "09de23b0-0444-4882-8d3f-7e8f1daaf527",
   "metadata": {},
   "source": [
    "в загруженных данных мы имеем следующие параметры/столбцы: \n",
    "1. country - страна производства, \n",
    "2. description - опиание, \n",
    "3. designation - название вина, \n",
    "4. points - оценка вина, \n",
    "5. price - цена, \n",
    "6. province - провинция страны производства, \n",
    "7. region_1 - 1-й регион сбора винограда, \n",
    "8. region_2 - 2-й регион сбора винограда, \n",
    "9. variety - вид вина, \n",
    "10. winery - винодельня\n",
    "\n",
    "Так как понятие описания вина очень специфичное и трудно поддается обработке, мы удалим данный столбец. \n",
    "Также стоит удалить столбец region_2 из-за большого количество пропусков"
   ]
  },
  {
   "cell_type": "code",
   "execution_count": 7,
   "id": "bba96094-9142-4bbc-817a-1db31aad670b",
   "metadata": {},
   "outputs": [],
   "source": [
    "dataset = dataset.drop(columns = ['description', 'region_2'])\n",
    "#удаляем первый столбец. Нам не нужна нумерация\n",
    "dataset = dataset.drop(dataset.columns[0], axis=1)"
   ]
  },
  {
   "cell_type": "code",
   "execution_count": 8,
   "id": "f92cdd72-1a3f-4b6d-843c-5b8eadd431c8",
   "metadata": {},
   "outputs": [],
   "source": [
    "#такие поля как designation, province, region_1, variety, winery имеют категориальный вид и с ними будет сложно работать. \n",
    "#Нужно их категоризовать и нормализовать\n",
    "\n",
    "# Создаем экземпляр LabelEncoder\n",
    "label_encoder = LabelEncoder()\n",
    "\n",
    "dataset['country_encoded'] = label_encoder.fit_transform(dataset['country'])\n",
    "dataset['name'] = label_encoder.fit_transform(dataset['designation'])\n",
    "dataset['province_encoded'] = label_encoder.fit_transform(dataset['province'])\n",
    "dataset['region'] = label_encoder.fit_transform(dataset['region_1'])\n",
    "dataset['variety_encoded'] = label_encoder.fit_transform(dataset['variety'])\n",
    "dataset['winery_encoded'] = label_encoder.fit_transform(dataset['winery'])\n",
    "\n",
    "\n",
    "dataset = dataset.drop(columns = ['country','designation', 'province', 'region_1', 'variety', 'winery'])\n"
   ]
  },
  {
   "cell_type": "code",
   "execution_count": 9,
   "id": "b71ed65e-ca97-4865-8a4c-87392236564c",
   "metadata": {},
   "outputs": [],
   "source": [
    "#переименуем в человеческий вид\n",
    "new_column_names = {\n",
    "    'country_encoded': 'country',\n",
    "    'province_encoded': 'province',\n",
    "    'variety_encoded': 'variety',\n",
    "    'winery_encoded': 'winery'\n",
    "}\n",
    "dataset.rename(columns=new_column_names, inplace=True)"
   ]
  },
  {
   "cell_type": "code",
   "execution_count": 10,
   "id": "36959154-00f6-4bd2-a540-5f0a93ab40fb",
   "metadata": {},
   "outputs": [],
   "source": [
    "#нормализация данных\n",
    "scaler = MinMaxScaler()\n",
    "scaled_data = scaler.fit_transform(dataset)\n",
    "dataset = pd.DataFrame(scaled_data, columns=dataset.columns)"
   ]
  },
  {
   "cell_type": "markdown",
   "id": "0410a213-dec9-4856-9d95-c45c2be86a4e",
   "metadata": {},
   "source": [
    "Пустые значения встречаются только в name, price, region. Проверить это можно через print(dataset['points'].isnull().any())\n",
    "Значение price можно попробовать восстановить используя КК, на основе параметра points. А вот пустые строки у name и region лучше удалить, что бы снизить значение предсказания в будущем"
   ]
  },
  {
   "cell_type": "code",
   "execution_count": 11,
   "id": "28bd8ae1-9323-44de-9cd8-2f04a0827e1a",
   "metadata": {},
   "outputs": [],
   "source": [
    "# Вычислим коэффициент корреляции\n",
    "#correlation = dataset['points'].corr(dataset['price'])\n",
    "# Заполним пропуски в столбце 'price' на основе значений в столбце 'points' с учетом коэффициента корреляции\n",
    "#dataset['price'].fillna(dataset['points'] * correlation, inplace=True)"
   ]
  },
  {
   "cell_type": "markdown",
   "id": "ea2b59b1-b497-4ac4-9f47-361f95ba4778",
   "metadata": {},
   "source": [
    "Коэффициент корреляции показал страшные значения, поэтому лучше удалим. Ниже можно глянуть общий разброс этих значений\n",
    "\n",
    "31    0.014373\n",
    "\n",
    "32    0.229932\n",
    "\n",
    "33    0.007840\n",
    "\n",
    "34    0.016551\n",
    "\n",
    "35    0.057056\n",
    "\n",
    "36    0.024390\n",
    "\n",
    "37    0.010889\n",
    "\n",
    "38    0.008275\n",
    "\n",
    "39    0.010889"
   ]
  },
  {
   "cell_type": "code",
   "execution_count": 12,
   "id": "32896ada-73f3-443e-8cbe-c0c65b5fee4b",
   "metadata": {},
   "outputs": [],
   "source": [
    "#удалим все пустые строки\n",
    "dataset = dataset.dropna()"
   ]
  },
  {
   "cell_type": "markdown",
   "id": "ccaec893-fc22-410a-a1d9-78ac17f984ab",
   "metadata": {},
   "source": [
    "## Формулировка задач"
   ]
  },
  {
   "cell_type": "markdown",
   "id": "0d3e2877-ba35-4cba-907a-c0b6700fba73",
   "metadata": {},
   "source": [
    "Исходя из столбцов в датасете, можно сформулировать следующие задачи:\n",
    "\n",
    "1. **Регрессионный анализ**:\n",
    "\n",
    "   Прогнозирование баллов (points) вина на основе его цены (price), разновидности (variety) и области происхождения (region).\n",
    "\n",
    "2. **Классификация**:\n",
    "\n",
    "   Классификация вин по стране происхождения (country) на основе их разновидности (variety), цены (price) и области происхождения (region).\n",
    "\n",
    "3. **Кластеризация**:\n",
    "\n",
    "   Кластеризация вин на основе их характеристик, таких как разновидность (variety), область происхождения (region) и винодельня (winery), с целью выявления групп схожих вин.\n"
   ]
  },
  {
   "cell_type": "markdown",
   "id": "787ad802-d496-463b-83bb-c4384e10de2f",
   "metadata": {},
   "source": [
    "## Задача регрессии\n",
    "\n",
    "### Прогнозирование баллов (points) вина на основе его цены (price), разновидности (variety) и области происхождения (region)."
   ]
  },
  {
   "cell_type": "code",
   "execution_count": 13,
   "id": "5ed4aa25-2123-48a6-a0b8-d9fffe6cd03a",
   "metadata": {},
   "outputs": [
    {
     "name": "stdout",
     "output_type": "stream",
     "text": [
      "Mean Squared Error: 0.02187529485412629\n",
      "R-squared: 0.16073410544762323\n"
     ]
    }
   ],
   "source": [
    "# Выделим признаки и целевую переменную\n",
    "X = dataset[['price', 'variety', 'region']]\n",
    "y = dataset['points']\n",
    "\n",
    "# Разделим данные на обучающие и тестовые наборы\n",
    "X_train, X_test, y_train, y_test = train_test_split(X, y, train_size=0.8, random_state=5)\n",
    "\n",
    "# Создаем модель линейной регрессии\n",
    "model = LinearRegression()\n",
    "\n",
    "# Обучаем модель на обучающей выборке\n",
    "model.fit(X_train, y_train)\n",
    "\n",
    "# Делаем прогноз на тестовом наборе\n",
    "y_pred = model.predict(X_test)\n",
    "\n",
    "# Оцениваем производительность модели\n",
    "mse = mean_squared_error(y_test, y_pred)\n",
    "r2 = r2_score(y_test, y_pred)\n",
    "\n",
    "print(f\"Mean Squared Error: {mse}\")\n",
    "print(f\"R-squared: {r2}\")"
   ]
  },
  {
   "cell_type": "markdown",
   "id": "36604ad1-e92b-4093-a806-4140b72aabb5",
   "metadata": {},
   "source": [
    "### Задача Регрессии. Промежуточные результаты\n",
    "Mean Squared Error: 0.02187529485412629\n",
    "R-squared: 0.16073410544762323\n",
    "\n",
    "MSE измеряет среднее значение квадратов разностей между фактическими и предсказанными значениями.В нашем случае, MSE равно 0.0219, что довольно низкое значение. Это означает, что модель имеет небольшую ошибку в прогнозировании баллов на основе цены, разновидности и области происхождения.\n",
    "\n",
    "R-squared измеряет процент дисперсии в зависимой переменной, который объясняется независимыми переменными в модели. В нашем случае, R-squared равно 0.161, что означает, что модель объясняет всего 16.1% дисперсии в баллах вина на основе цены, разновидности и области происхождения. Это относительно низкое значение и может указывать на то, что модель не очень хорошо объясняет вариацию в данных.\n"
   ]
  },
  {
   "cell_type": "code",
   "execution_count": 15,
   "id": "eebf5840-edde-4067-bbe2-3497f799a831",
   "metadata": {},
   "outputs": [
    {
     "name": "stdout",
     "output_type": "stream",
     "text": [
      "Mean Squared Error: 0.012423508694510702\n",
      "R-squared: 0.5233606126222796\n"
     ]
    }
   ],
   "source": [
    "# Попробуем решить задачи регрессии используя случайный лес\n",
    "# Создадим модель случайного леса\n",
    "model = RandomForestRegressor(n_estimators=100, random_state=42)\n",
    "\n",
    "# Обучим модель на обучающем наборе\n",
    "model.fit(X_train, y_train)\n",
    "\n",
    "# Сделаем прогноз на тестовом наборе\n",
    "y_pred = model.predict(X_test)\n",
    "\n",
    "# Оценим производительность модели\n",
    "mse = mean_squared_error(y_test, y_pred)\n",
    "r2 = r2_score(y_test, y_pred)\n",
    "\n",
    "print(f\"Mean Squared Error: {mse}\")\n",
    "print(f\"R-squared: {r2}\")"
   ]
  },
  {
   "cell_type": "markdown",
   "id": "f0b1118d-34a5-42fc-96a5-25159502dd90",
   "metadata": {},
   "source": [
    "### Задача Регрессии. Итоговые результаты\n",
    "\n",
    "Mean Squared Error: 0.012423508694510702\n",
    "R-squared: 0.5233606126222796\n",
    "\n",
    "После выбора другого, более сложного алгоритма регрессии -- Случайные лес. Мы получили гораздно лучше резльтат по сравнению с линейной регрессией, а именно значение параметра увеличилось на 36% и составило 0.52, а значение средне квадратической ошибки уменьшилось в 3 раза и составила 0.01. С такой моделью мы можем пользоваться. В качестве дальнейшего увеления значения предсказания, можно заюзать уже более сложные алгоритмы -- нейронные сети или попробовать изменить нецелевые признаки для обучения.\n"
   ]
  },
  {
   "cell_type": "markdown",
   "id": "28d77689-f0d0-483b-a266-db505d1d1aa1",
   "metadata": {},
   "source": [
    "## Задача классификации\n",
    "\n",
    "### Классификация вин по стране происхождения (country) на основе их разновидности (variety), цены (price) и области происхождения (region)."
   ]
  },
  {
   "cell_type": "code",
   "execution_count": 16,
   "id": "c63991af-207f-471b-b335-d14a0c5c75ec",
   "metadata": {},
   "outputs": [],
   "source": [
    "#Чтобы решить задачу классификации, воспользуемся сначала алгоритмом случайного леса\n",
    "# Выделим признаки и целевую переменную\n",
    "X = dataset[['variety', 'price', 'region']]\n",
    "label_encoder = LabelEncoder()\n",
    "y = label_encoder.fit_transform(dataset['country'])\n",
    "\n",
    "X = pd.get_dummies(X, drop_first=True)\n",
    "\n",
    "# Разделим данные на обучающие и тестовые выборки\n",
    "X_train, X_test, y_train, y_test = train_test_split(X, y, train_size=0.8, random_state=42)\n",
    "\n",
    "# Создадим модель случайного леса для классификации\n",
    "model = RandomForestClassifier(n_estimators=100, random_state=42)\n",
    "\n",
    "# Обучим модель на обучающем наборе\n",
    "model.fit(X_train, y_train)\n",
    "\n",
    "# Сделаем прогноз на тестовом наборе\n",
    "y_pred = model.predict(X_test)"
   ]
  },
  {
   "cell_type": "code",
   "execution_count": 17,
   "id": "2db0573a-6ac2-49b7-b50c-1bdb8319ba85",
   "metadata": {},
   "outputs": [
    {
     "name": "stdout",
     "output_type": "stream",
     "text": [
      "Accuracy: 0.9278974022661858\n",
      "Classification Report:\n",
      "              precision    recall  f1-score   support\n",
      "\n",
      "           1       0.97      0.96      0.96      1111\n",
      "           2       0.94      0.91      0.93       982\n",
      "           3       0.90      0.64      0.75       483\n",
      "           4       0.50      1.00      0.67         1\n",
      "           5       1.00      0.25      0.40         4\n",
      "           6       0.50      0.09      0.15        11\n",
      "           7       0.93      0.80      0.86        35\n",
      "           8       0.66      0.77      0.71      1119\n",
      "           9       1.00      0.00      0.00         1\n",
      "          10       0.67      0.29      0.40        14\n",
      "          11       1.00      0.00      0.00         2\n",
      "          13       1.00      0.00      0.00         1\n",
      "          14       0.97      0.96      0.96      2979\n",
      "          15       1.00      0.30      0.46        10\n",
      "          16       0.72      0.90      0.80       483\n",
      "          17       0.63      0.50      0.55       173\n",
      "          18       0.63      0.54      0.58        35\n",
      "          20       0.36      0.25      0.30       115\n",
      "          21       0.97      0.96      0.96      3843\n",
      "          22       1.00      1.00      1.00         1\n",
      "          23       0.00      0.00      1.00         6\n",
      "          24       0.50      1.00      0.67         3\n",
      "          25       1.00      1.00      1.00         2\n",
      "          26       1.00      0.33      0.50         6\n",
      "          27       0.00      0.00      1.00        15\n",
      "          28       0.50      0.14      0.22        14\n",
      "          29       1.00      0.00      0.00         2\n",
      "          30       0.00      0.00      1.00         2\n",
      "          31       0.56      0.71      0.63       606\n",
      "          32       0.95      0.93      0.94       808\n",
      "          33       0.31      0.15      0.20        34\n",
      "          34       1.00      0.33      0.50         3\n",
      "          36       0.71      0.26      0.38        19\n",
      "          37       0.58      0.43      0.49       457\n",
      "          38       1.00      1.00      1.00         1\n",
      "          39       0.97      0.95      0.96      1653\n",
      "          40       1.00      0.00      0.00         1\n",
      "          41       0.75      0.27      0.40        11\n",
      "          42       0.98      0.99      0.98     12380\n",
      "          44       0.33      1.00      0.50         1\n",
      "          45       0.90      0.45      0.60        20\n",
      "\n",
      "    accuracy                           0.93     27447\n",
      "   macro avg       0.74      0.51      0.60     27447\n",
      "weighted avg       0.93      0.93      0.93     27447\n",
      "\n"
     ]
    }
   ],
   "source": [
    "# Оценим производительность модели\n",
    "accuracy = accuracy_score(y_test, y_pred)\n",
    "conf_matrix = confusion_matrix(y_test, y_pred)\n",
    "class_report = classification_report(y_test, y_pred, zero_division=1)\n",
    "\n",
    "print(f\"Accuracy: {accuracy}\")\n",
    "print(\"Classification Report:\")\n",
    "print(class_report)\n",
    "#Смотреть на Confusion Matrix думаю не имеет смысла, так как итого у нас получается 45 классов и по матрице сложно будет сделать вывод. \n",
    "#Поэтому будем анализировать по Classification Report\n",
    "#print(\"Confusion Matrix:\")\n",
    "#print(conf_matrix)\n",
    "# Построение Confusion Matrix визуально\n",
    "#plt.figure(figsize=(10, 8))\n",
    "#sns.heatmap(conf_matrix, annot=True, fmt='d', cmap='Blues', xticklabels=label_encoder.classes_, yticklabels=label_encoder.classes_)\n",
    "#plt.xlabel('Predicted')\n",
    "#plt.ylabel('True')\n",
    "#plt.title('Confusion Matrix')\n",
    "#plt.show()"
   ]
  },
  {
   "cell_type": "markdown",
   "id": "a193e9ee-9e95-49ba-b0be-6cc53d6d749e",
   "metadata": {},
   "source": [
    "### Задача классификации. Промежуточные результаты\n",
    "\n",
    "Classification Report предоставляет информацию о точности, полноте и F1-мере для каждого класса в задаче классификации. В данном случае у нас множество классов (стран происхождения вина), и Classification Report отражает производительность модели для каждого из них. F1-мера - это метрика, которая объединяет точность (precision) и полноту (recall) в одну метрику для оценки производительности модели классификации.\n",
    "\n",
    "#### Оценка качества классификации:\n",
    "\n",
    "- **Accuracy**: 0.93 (93%) - Это доля правильно классифицированных образцов от общего числа образцов в тестовом наборе. Этот признак дает плывучее представление о точности нашей модели, поэтому рассмотрим и другие параметры.\n",
    "\n",
    "#### Оценка по каждому классу (стране происхождения):\n",
    "\n",
    "Класс \"1\": Точность (Precision) - 0.97, Полнота (Recall) - 0.96, F1-мера - 0.96. Это означает, что 97% объектов, предсказанных как класс \"1\", действительно принадлежат к этому классу, и модель обнаруживает 96% объектов этого класса. И так для каждого класса\n",
    "\n",
    "#### Макро-усреднение и взвешенное усреднение:\n",
    "\n",
    "- **Макро-усреднение (macro avg)**: Это средние значения для всех классов. В данном случае средняя точность - 0.74, средняя полнота - 0.51, средняя F1-мера - 0.60.\n",
    "\n",
    "- **Взвешенное усреднение (weighted avg)**: Это средние значения, учитывая размеры классов. В данном случае взвешенная точность - 0.93, взвешенная полнота - 0.93, взвешенная F1-мера - 0.93.\n",
    "\n",
    "#### Итого:\n",
    "\n",
    "- Модель имеет высокую точность (Precision) и полноту (Recall) для классов \"1\" и \"14\", что означает, что она хорошо идентифицирует объекты этих классов.\n",
    "\n",
    "- У классов с низкой точностью или полнотой (например, класс \"3\" или класс \"9\") может быть недостаточно данных для точного прогноза, или модель может испытывать трудности в их идентификации.\n",
    "\n",
    "- Взвешенное усреднение (weighted avg) показывает, что модель имеет хорошую среднюю производительность по всем классам.\n"
   ]
  },
  {
   "cell_type": "code",
   "execution_count": 18,
   "id": "9089ac52-29d4-471d-b809-ebc373d2a88e",
   "metadata": {},
   "outputs": [
    {
     "name": "stdout",
     "output_type": "stream",
     "text": [
      "Accuracy: 0.9104820198928845\n",
      "Classification Report:\n",
      "              precision    recall  f1-score   support\n",
      "\n",
      "           1       0.92      0.92      0.92      1111\n",
      "           2       0.89      0.89      0.89       982\n",
      "           3       0.82      0.64      0.72       483\n",
      "           4       1.00      0.00      0.00         1\n",
      "           5       1.00      0.00      0.00         4\n",
      "           6       0.33      0.09      0.14        11\n",
      "           7       0.83      0.83      0.83        35\n",
      "           8       0.64      0.77      0.70      1119\n",
      "           9       1.00      0.00      0.00         1\n",
      "          10       0.60      0.21      0.32        14\n",
      "          11       1.00      0.00      0.00         2\n",
      "          13       0.00      0.00      1.00         1\n",
      "          14       0.95      0.95      0.95      2979\n",
      "          15       0.60      0.60      0.60        10\n",
      "          16       0.70      0.91      0.79       483\n",
      "          17       0.62      0.49      0.55       173\n",
      "          18       0.40      0.49      0.44        35\n",
      "          20       0.27      0.18      0.22       115\n",
      "          21       0.95      0.94      0.95      3843\n",
      "          22       1.00      0.00      0.00         1\n",
      "          23       1.00      0.00      0.00         6\n",
      "          24       1.00      0.00      0.00         3\n",
      "          25       1.00      0.00      0.00         2\n",
      "          26       1.00      0.00      0.00         6\n",
      "          27       0.00      0.00      1.00        15\n",
      "          28       1.00      0.00      0.00        14\n",
      "          29       1.00      0.00      0.00         2\n",
      "          30       1.00      0.00      0.00         2\n",
      "          31       0.56      0.64      0.60       606\n",
      "          32       0.94      0.94      0.94       808\n",
      "          33       1.00      0.09      0.16        34\n",
      "          34       1.00      0.00      0.00         3\n",
      "          36       1.00      0.05      0.10        19\n",
      "          37       0.52      0.40      0.45       457\n",
      "          38       1.00      1.00      1.00         1\n",
      "          39       0.94      0.91      0.93      1653\n",
      "          40       1.00      0.00      0.00         1\n",
      "          41       1.00      0.09      0.17        11\n",
      "          42       0.97      0.97      0.97     12380\n",
      "          44       0.33      1.00      0.50         1\n",
      "          45       0.70      0.35      0.47        20\n",
      "\n",
      "    accuracy                           0.91     27447\n",
      "   macro avg       0.79      0.37      0.42     27447\n",
      "weighted avg       0.91      0.91      0.91     27447\n",
      "\n"
     ]
    }
   ],
   "source": [
    "#Попробуем решить задачу классификации используя алгоритм k-ближ соседей и сопоставим результаты\n",
    "X = dataset[['variety', 'price', 'region']]\n",
    "label_encoder = LabelEncoder()\n",
    "y = label_encoder.fit_transform(dataset['country'])\n",
    "\n",
    "X = pd.get_dummies(X, drop_first=True)\n",
    "\n",
    "# Разделим данные на обучающие и тестовые выборки\n",
    "X_train, X_test, y_train, y_test = train_test_split(X, y, train_size=0.8, random_state=42)\n",
    "\n",
    "# Создадим модель K-Nearest Neighbors\n",
    "model = KNeighborsClassifier(n_neighbors=8)  # Здесь n_neighbors - количество соседей для классификации\n",
    "\n",
    "# Обучим модель на обучающем наборе\n",
    "model.fit(X_train, y_train)\n",
    "\n",
    "# Сделаем прогноз на тестовом наборе\n",
    "y_pred = model.predict(X_test)\n",
    "\n",
    "# Оценим производительность модели\n",
    "accuracy = accuracy_score(y_test, y_pred)\n",
    "class_report = classification_report(y_test, y_pred, zero_division=1)\n",
    "\n",
    "print(f\"Accuracy: {accuracy}\")\n",
    "print(\"Classification Report:\")\n",
    "print(class_report)"
   ]
  },
  {
   "cell_type": "markdown",
   "id": "c87cb80e-926b-4a71-82f0-0591b7643e92",
   "metadata": {},
   "source": [
    "#### Используя метод к ближайщих соседей, с параметром k = 5, я получил следующие значения\n",
    "\n",
    "accuracy                               0.92     27447\n",
    "\n",
    "macro avg          0.74      0.40      0.47     27447\n",
    "\n",
    "weighted avg       0.92      0.92      0.92     27447\n",
    "\n",
    "#### Эти результаты примерно на 1% ниже, чем резы полученнные алгоритмом случайного леса, Попробуем увеличть и уменьшить значение k на 3 и посмотрим резы:\n",
    "\n",
    "##### Резы При к = 2:\n",
    "\n",
    "accuracy                               0.93     27447\n",
    "\n",
    "macro avg          0.68      0.49      0.50     27447\n",
    "\n",
    "weighted avg       0.93      0.93      0.93     27447\n",
    "\n",
    "##### Резы При к = 8:\n",
    "\n",
    "accuracy                               0.91     27447\n",
    "macro avg          0.79      0.37      0.42     27447\n",
    "weighted avg       0.91      0.91      0.91     27447\n",
    "\n",
    "#### Как видно из результатов при использовании алгоритма к ближайщих соседей наши результаты не лучше чем при использовании алгоритма случайного леса. Уступаем только в параметре macro avg. Для алгоритма случайного леса = 0.6, для к ближ соседей = 0.46, что очень сильно низко. Попробуем решить задачу классификации с использованием логистической регрессии"
   ]
  },
  {
   "cell_type": "code",
   "execution_count": 19,
   "id": "08cc6c66-c247-46e6-b6b2-ae9e8bb281ae",
   "metadata": {},
   "outputs": [
    {
     "name": "stdout",
     "output_type": "stream",
     "text": [
      "Accuracy: 0.46992385324443475\n",
      "Classification Report:\n",
      "              precision    recall  f1-score   support\n",
      "\n",
      "           1       1.00      0.00      0.00      1111\n",
      "           2       1.00      0.00      0.00       982\n",
      "           3       1.00      0.00      0.00       483\n",
      "           4       1.00      0.00      0.00         1\n",
      "           5       1.00      0.00      0.00         4\n",
      "           6       1.00      0.00      0.00        11\n",
      "           7       1.00      0.00      0.00        35\n",
      "           8       0.35      0.61      0.45      1119\n",
      "           9       1.00      0.00      0.00         1\n",
      "          10       1.00      0.00      0.00        14\n",
      "          11       1.00      0.00      0.00         2\n",
      "          13       1.00      0.00      0.00         1\n",
      "          14       0.64      0.02      0.04      2979\n",
      "          15       1.00      0.00      0.00        10\n",
      "          16       0.40      0.00      0.01       483\n",
      "          17       1.00      0.00      0.00       173\n",
      "          18       1.00      0.00      0.00        35\n",
      "          20       1.00      0.00      0.00       115\n",
      "          21       1.00      0.00      0.00      3843\n",
      "          22       1.00      0.00      0.00         1\n",
      "          23       1.00      0.00      0.00         6\n",
      "          24       1.00      0.00      0.00         3\n",
      "          25       1.00      0.00      0.00         2\n",
      "          26       1.00      0.00      0.00         6\n",
      "          27       1.00      0.00      0.00        15\n",
      "          28       1.00      0.00      0.00        14\n",
      "          29       1.00      0.00      0.00         2\n",
      "          30       1.00      0.00      0.00         2\n",
      "          31       1.00      0.00      0.00       606\n",
      "          32       0.08      0.16      0.10       808\n",
      "          33       1.00      0.00      0.00        34\n",
      "          34       1.00      0.00      0.00         3\n",
      "          36       1.00      0.00      0.00        19\n",
      "          37       1.00      0.00      0.00       457\n",
      "          38       1.00      0.00      0.00         1\n",
      "          39       1.00      0.00      0.00      1653\n",
      "          40       1.00      0.00      0.00         1\n",
      "          41       1.00      0.00      0.00        11\n",
      "          42       0.51      0.97      0.67     12380\n",
      "          44       1.00      0.00      0.00         1\n",
      "          45       1.00      0.00      0.00        20\n",
      "\n",
      "    accuracy                           0.47     27447\n",
      "   macro avg       0.93      0.04      0.03     27447\n",
      "weighted avg       0.67      0.47      0.33     27447\n",
      "\n"
     ]
    }
   ],
   "source": [
    "# 1. Загрузка данных и предварительная обработка\n",
    "X = dataset[['variety', 'price', 'region']]\n",
    "label_encoder = LabelEncoder()\n",
    "y = label_encoder.fit_transform(dataset['country'])\n",
    "\n",
    "# Применим one-hot encoding к категориальному признаку 'country'\n",
    "X = pd.get_dummies(X, drop_first=True)\n",
    "\n",
    "# Разделение данных на обучающий и тестовый набор\n",
    "X_train, X_test, y_train, y_test = train_test_split(X, y, train_size=0.8, random_state=42)\n",
    "\n",
    "# 2. Создание и обучение модели логистической регрессии\n",
    "model = LogisticRegression(max_iter=1000)\n",
    "model.fit(X_train, y_train)\n",
    "\n",
    "# 3. Прогнозы на тестовом наборе\n",
    "y_pred = model.predict(X_test)\n",
    "\n",
    "# 4. Оценка производительности модели\n",
    "accuracy = accuracy_score(y_test, y_pred)\n",
    "class_report = classification_report(y_test, y_pred, zero_division=1)\n",
    "\n",
    "print(f\"Accuracy: {accuracy}\")\n",
    "print(\"Classification Report:\")\n",
    "print(class_report)"
   ]
  },
  {
   "cell_type": "markdown",
   "id": "ca0de5bd-a2a9-4029-bfa6-eeb9043c1027",
   "metadata": {},
   "source": [
    "### Задача классификации. Итоговые результаты\n",
    "\n",
    "При использовании алгоритма логистической регресии для этой задачи были получены следующие значения ... и они кончено удивили. Пришлось конечно даже увеличить кол-во итераций до 1000\n",
    "\n",
    "accuracy                               0.47     27447\n",
    "\n",
    "macro avg          0.93      0.04      0.03     27447\n",
    "\n",
    "weighted avg       0.67      0.47      0.33     27447\n",
    "\n",
    "Значения получились очень низкие по сравнению с алгоритмом к-ближайших соседей и алгоритма случайного леса. Поэтому в данной задаче лучше не использовать данный алгоритм или попробовать изменить нецелевые признаки"
   ]
  },
  {
   "cell_type": "markdown",
   "id": "9cd181db-6b07-4a80-9eea-e89909ce24d4",
   "metadata": {},
   "source": [
    "## Задача кластеризации\n",
    "\n",
    "### Кластеризация вин на основе их характеристик, таких как разновидность (variety), область происхождения (region) и винодельня (winery), с целью выявления групп схожих вин."
   ]
  },
  {
   "cell_type": "code",
   "execution_count": 20,
   "id": "88a346ed-7b6f-4069-8111-e21250eb8c5d",
   "metadata": {},
   "outputs": [
    {
     "name": "stdout",
     "output_type": "stream",
     "text": [
      "   points     price   country      name  province    region   variety  \\\n",
      "0    0.80  0.100610  0.916667  0.564057  0.112088  0.597087  0.110935   \n",
      "1    0.80  0.046167  0.833333  0.143660  0.602198  0.865696  0.876387   \n",
      "2    0.80  0.037456  0.916667  0.828941  0.112088  0.427184  0.741680   \n",
      "3    0.80  0.026568  0.916667  0.728520  0.619780  0.988673  0.637084   \n",
      "4    0.75  0.027003  0.312500  0.465726  0.687912  0.053398  0.668780   \n",
      "\n",
      "     winery  \n",
      "0  0.492066  \n",
      "1  0.083125  \n",
      "2  0.609967  \n",
      "3  0.742927  \n",
      "4  0.365318  \n"
     ]
    }
   ],
   "source": [
    "print(dataset.head())"
   ]
  },
  {
   "cell_type": "code",
   "execution_count": 26,
   "id": "726ccc2f-c0d0-4a2e-b596-52e4b3980631",
   "metadata": {},
   "outputs": [
    {
     "data": {
      "image/png": "[encoded data removed]",
      "text/plain": [
       "<Figure size 640x480 with 1 Axes>"
      ]
     },
     "metadata": {},
     "output_type": "display_data"
    }
   ],
   "source": [
    "X = dataset[['variety', 'region', 'winery']]\n",
    "inertia = []\n",
    "for k in range(1, 20):\n",
    "    kmeans = KMeans(n_clusters=k, random_state=1, n_init=10).fit(X)\n",
    "    inertia.append(np.sqrt(kmeans.inertia_))\n",
    "\n",
    "plt.plot(range(1, 20), inertia, marker='s');\n",
    "plt.xlabel('Число кластеров')\n",
    "plt.ylabel('Ошибка');"
   ]
  },
  {
   "cell_type": "markdown",
   "id": "3c7fcf8f-3f9f-4516-bdcb-1b5c6fe4ef8b",
   "metadata": {},
   "source": [
    "#### Кластеризация. Промежуточные результаты\n",
    "\n",
    "В коде выше решили вычислить меру суммы квадратов расстояний между точками данных и их ближайшими центроидами кластеров для каждого значения к от 1 до 20. В иделае значение этой ошибки должно быть маленькой. На графике выше можно увидеть что чилсе класторов начиная от 17, ошибка приближается к 60. В следующем коде, мы запустим заново этот алгоритм на значениях к [20, 40] и посмотрим сильно ли уменьшится значение ошибки или оно просто застынет на некотором значении"
   ]
  },
  {
   "cell_type": "code",
   "execution_count": 30,
   "id": "cb45ba28-85ec-46de-9627-7d9f055da033",
   "metadata": {},
   "outputs": [
    {
     "data": {
      "image/png": "[encoded data removed]",
      "text/plain": [
       "<Figure size 640x480 with 1 Axes>"
      ]
     },
     "metadata": {},
     "output_type": "display_data"
    }
   ],
   "source": [
    "inertia = []\n",
    "for k in range(20, 40):\n",
    "    kmeans = KMeans(n_clusters=k, random_state=1, n_init=10).fit(X)\n",
    "    inertia.append(np.sqrt(kmeans.inertia_))\n",
    "\n",
    "plt.plot(range(20, 40), inertia, marker='s');\n",
    "plt.xlabel('Число кластеров')\n",
    "plt.ylabel('Ошибка');"
   ]
  },
  {
   "cell_type": "markdown",
   "id": "abeedfa8-65a0-4a5f-812d-7d9184d7e34f",
   "metadata": {},
   "source": [
    "На графике выше видно, что значение ошибки начала уменьшаться линейно и упало с 60 до 50. Раз значение ошибки так быстро, практически линейно падает, попробуем интервал с к [60: 80]"
   ]
  },
  {
   "cell_type": "code",
   "execution_count": 32,
   "id": "8cc4ba3c-446d-44e1-beaa-ca742b341748",
   "metadata": {},
   "outputs": [
    {
     "data": {
      "image/png": "[encoded data removed]",
      "text/plain": [
       "<Figure size 640x480 with 1 Axes>"
      ]
     },
     "metadata": {},
     "output_type": "display_data"
    }
   ],
   "source": [
    "inertia = []\n",
    "for k in range(60, 80):\n",
    "    kmeans = KMeans(n_clusters=k, random_state=1, n_init=10).fit(X)\n",
    "    inertia.append(np.sqrt(kmeans.inertia_))\n",
    "\n",
    "plt.plot(range(60, 80), inertia, marker='s');\n",
    "plt.xlabel('Число кластеров')\n",
    "plt.ylabel('Ошибка');"
   ]
  },
  {
   "cell_type": "markdown",
   "id": "ac68aa9d-5790-482c-b0eb-fb4018e74bb5",
   "metadata": {},
   "source": [
    "В интервале к [60: 80] мы видим что ошибка начала хоть и линейно уменьшаться, но само значение не сильно падает. Выбранное значение k (80) может быть оптимальным для данного набора данных. Это может быть наилучшим способом разделения данных, и дальнейшее увеличение числа кластеров не приносит значительного улучшения в качестве кластеризации."
   ]
  },
  {
   "cell_type": "code",
   "execution_count": 33,
   "id": "963ecb9d-ae02-4f56-93e2-d10f803753c8",
   "metadata": {},
   "outputs": [
    {
     "data": {
      "text/plain": [
       "[1516,\n",
       " 1227,\n",
       " 3138,\n",
       " 1700,\n",
       " 2930,\n",
       " 2024,\n",
       " 1652,\n",
       " 938,\n",
       " 1616,\n",
       " 1640,\n",
       " 1472,\n",
       " 1287,\n",
       " 1655,\n",
       " 1268,\n",
       " 1847,\n",
       " 1320,\n",
       " 2509,\n",
       " 1710,\n",
       " 1270,\n",
       " 1930,\n",
       " 899,\n",
       " 1468,\n",
       " 919,\n",
       " 2850,\n",
       " 1562,\n",
       " 1064,\n",
       " 1514,\n",
       " 2781,\n",
       " 1172,\n",
       " 1372,\n",
       " 1624,\n",
       " 1323,\n",
       " 2044,\n",
       " 2408,\n",
       " 2320,\n",
       " 2747,\n",
       " 2604,\n",
       " 2324,\n",
       " 2544,\n",
       " 963,\n",
       " 2684,\n",
       " 1324,\n",
       " 1292,\n",
       " 681,\n",
       " 1242,\n",
       " 680,\n",
       " 1931,\n",
       " 3572,\n",
       " 1623,\n",
       " 1640,\n",
       " 1622,\n",
       " 1306,\n",
       " 1570,\n",
       " 826,\n",
       " 1165,\n",
       " 2409,\n",
       " 1210,\n",
       " 1701,\n",
       " 2033,\n",
       " 1522,\n",
       " 1954,\n",
       " 2731,\n",
       " 958,\n",
       " 2214,\n",
       " 2005,\n",
       " 908,\n",
       " 2102,\n",
       " 1259,\n",
       " 2158,\n",
       " 2255,\n",
       " 1149,\n",
       " 1628,\n",
       " 1142,\n",
       " 1195,\n",
       " 1674,\n",
       " 1781,\n",
       " 2105,\n",
       " 2052,\n",
       " 1745,\n",
       " 1036]"
      ]
     },
     "execution_count": 33,
     "metadata": {},
     "output_type": "execute_result"
    }
   ],
   "source": [
    "kmeans = KMeans(n_clusters=80, random_state=1, n_init=10).fit(X)\n",
    "#распределение количества наблюдений по кластерам в кластеризации по параметрам регрессии\n",
    "[len(kmeans.labels_[kmeans.labels_ == i]) for i in range(80)]"
   ]
  },
  {
   "cell_type": "markdown",
   "id": "b96cd149-3985-46ff-bc3e-0c9a2fd18b30",
   "metadata": {},
   "source": [
    "#### Кластеризация. Итоговые результаты\n",
    "\n",
    "Результаты показывают, как количество наблюдений распределено по 80 кластерам после применения алгоритма K-Means. Важно заметить, что распределение неравномерное, и количество наблюдений в разных кластерах значительно различается. Некоторые кластеры имеют гораздо больше наблюдений, чем другие.\n",
    "\n",
    "Это может иметь следующие практические следствия:\n",
    "\n",
    "1. **Неравномерность групп вин:** Некоторые группы вин (кластеры) более представительны, чем другие. Это может быть важным для понимания, какие разновидности вин, регионы и винодельни чаще встречаются.\n",
    "\n",
    "2. **Анализ крупных и малых групп:** Мы можем проанализировать характеристики и особенности вин в крупных и малых кластерах отдельно. Это может помочь выявить, что делает каждую из этих групп уникальной.\n",
    "\n",
    "3. **Выбор представительных объектов:** Мы можем выбрать несколько представительных вин из каждого кластера для дополнительного анализа. Это может помочь вам понять, какие вина характерны для каждой группы."
   ]
  },
  {
   "cell_type": "code",
   "execution_count": null,
   "id": "047da485-538e-4579-84e5-2c44624edcdd",
   "metadata": {},
   "outputs": [],
   "source": []
  }
 ],
 "metadata": {
  "kernelspec": {
   "display_name": "Python 3 (ipykernel)",
   "language": "python",
   "name": "python3"
  },
  "language_info": {
   "codemirror_mode": {
    "name": "ipython",
    "version": 3
   },
   "file_extension": ".py",
   "mimetype": "text/x-python",
   "name": "python",
   "nbconvert_exporter": "python",
   "pygments_lexer": "ipython3",
   "version": "3.11.6"
  }
 },
 "nbformat": 4,
 "nbformat_minor": 5
}
