{
 "cells": [
  {
   "cell_type": "code",
   "execution_count": 51,
   "id": "05412165-0816-4b83-8343-3cc29b594ed9",
   "metadata": {},
   "outputs": [],
   "source": [
    "#В качестве датасета выбран набор данных о винах: https://www.kaggle.com/datasets/zynicide/wine-reviews\n",
    "#нужно создать модели МО, используя регрессию, классификацию, кластеризацию\n",
    "\n",
    "# Загружаем библиотеки\n",
    "import numpy as np # работа с векторами\n",
    "import matplotlib.pyplot as plt # рисовать графики\n",
    "import pandas as pd # для работы с табличная\n",
    "import sklearn # машинное обучение на python\n",
    "from sklearn.preprocessing import LabelEncoder, MinMaxScaler"
   ]
  },
  {
   "cell_type": "code",
   "execution_count": 41,
   "id": "a7fcc40b-bb50-48bb-868d-544d51548a5d",
   "metadata": {},
   "outputs": [
    {
     "name": "stdout",
     "output_type": "stream",
     "text": [
      "<class 'pandas.core.frame.DataFrame'>\n",
      "RangeIndex: 150930 entries, 0 to 150929\n",
      "Data columns (total 11 columns):\n",
      " #   Column       Non-Null Count   Dtype  \n",
      "---  ------       --------------   -----  \n",
      " 0   Unnamed: 0   150930 non-null  int64  \n",
      " 1   country      150925 non-null  object \n",
      " 2   description  150930 non-null  object \n",
      " 3   designation  105195 non-null  object \n",
      " 4   points       150930 non-null  int64  \n",
      " 5   price        137235 non-null  float64\n",
      " 6   province     150925 non-null  object \n",
      " 7   region_1     125870 non-null  object \n",
      " 8   region_2     60953 non-null   object \n",
      " 9   variety      150930 non-null  object \n",
      " 10  winery       150930 non-null  object \n",
      "dtypes: float64(1), int64(2), object(8)\n",
      "memory usage: 12.7+ MB\n"
     ]
    }
   ],
   "source": [
    "# загружаем данные\n",
    "dataset = pd.read_csv('winemag-data_first150k.csv')\n",
    "dataset.info()"
   ]
  },
  {
   "cell_type": "code",
   "execution_count": 42,
   "id": "bba96094-9142-4bbc-817a-1db31aad670b",
   "metadata": {},
   "outputs": [],
   "source": [
    "#Обработка данных\n",
    "#в загруженных данных мы имеем следующие параметры/столбцы:\n",
    "#[country, description, designation, points, price, province, region_1, region_2, variety, winery]\n",
    "#Так как понятие описания вина очень специфичное и трудно поддается обработке, мы удалим данный столбец. \n",
    "#Также стоит удалить столбец region_2 из-за большого количество пропусков\n",
    "\n",
    "dataset = dataset.drop(columns = ['description', 'region_2'])\n",
    "#удаляем первый столбец. Нам не нужна нумерация\n",
    "dataset = dataset.drop(dataset.columns[0], axis=1)"
   ]
  },
  {
   "cell_type": "code",
   "execution_count": 43,
   "id": "f92cdd72-1a3f-4b6d-843c-5b8eadd431c8",
   "metadata": {},
   "outputs": [],
   "source": [
    "#такие поля как designation, province, region_1, variety, winery имеют категориальный вид и с ними будет сложно работать. Нужно их нормализовать\n",
    "\n",
    "# Создаем экземпляр LabelEncoder\n",
    "label_encoder = LabelEncoder()\n",
    "\n",
    "dataset['country_encoded'] = label_encoder.fit_transform(dataset['country'])\n",
    "dataset['name'] = label_encoder.fit_transform(dataset['designation'])\n",
    "dataset['province_encoded'] = label_encoder.fit_transform(dataset['province'])\n",
    "dataset['region'] = label_encoder.fit_transform(dataset['region_1'])\n",
    "dataset['variety_encoded'] = label_encoder.fit_transform(dataset['variety'])\n",
    "dataset['winery_encoded'] = label_encoder.fit_transform(dataset['winery'])\n",
    "\n",
    "\n",
    "dataset = dataset.drop(columns = ['country','designation', 'province', 'region_1', 'variety', 'winery'])\n"
   ]
  },
  {
   "cell_type": "code",
   "execution_count": 60,
   "id": "b71ed65e-ca97-4865-8a4c-87392236564c",
   "metadata": {},
   "outputs": [],
   "source": [
    "#переименуем в человеческий вид\n",
    "new_column_names = {\n",
    "    'country_encoded': 'country',\n",
    "    'province_encoded': 'province',\n",
    "    'variety_encoded': 'variety',\n",
    "    'winery_encoded': 'winery'\n",
    "}\n",
    "dataset.rename(columns=new_column_names, inplace=True)"
   ]
  },
  {
   "cell_type": "code",
   "execution_count": 80,
   "id": "36959154-00f6-4bd2-a540-5f0a93ab40fb",
   "metadata": {},
   "outputs": [],
   "source": [
    "#нормализация данных\n",
    "scaler = MinMaxScaler()\n",
    "scaled_data = scaler.fit_transform(dataset)\n",
    "dataset = pd.DataFrame(scaled_data, columns=dataset.columns)"
   ]
  },
  {
   "cell_type": "markdown",
   "id": "0410a213-dec9-4856-9d95-c45c2be86a4e",
   "metadata": {},
   "source": [
    "Пустые значения\n",
    "Они встречаются только в name, price, region. Проверить это можно через print(dataset['points'].isnull().any())\n",
    "Значение price можно попробовать восстановить используя КК, на основе параметра points. А вот пустые строки у name и region лучше удалить, что бы снизить значение предсказания в будущем"
   ]
  },
  {
   "cell_type": "code",
   "execution_count": 78,
   "id": "28bd8ae1-9323-44de-9cd8-2f04a0827e1a",
   "metadata": {},
   "outputs": [],
   "source": [
    "# Вычислим коэффициент корреляции\n",
    "#correlation = dataset['points'].corr(dataset['price'])\n",
    "# Заполним пропуски в столбце 'price' на основе значений в столбце 'points' с учетом коэффициента корреляции\n",
    "#dataset['price'].fillna(dataset['points'] * correlation, inplace=True)"
   ]
  },
  {
   "cell_type": "markdown",
   "id": "ea2b59b1-b497-4ac4-9f47-361f95ba4778",
   "metadata": {},
   "source": [
    "Коэффициент корреляции показал страшные значения, поэтому лучше удалим. Ниже можно глянуть общий разброс этих значений\n",
    "31    0.014373\n",
    "32    0.229932\n",
    "33    0.007840\n",
    "34    0.016551\n",
    "35    0.057056\n",
    "36    0.024390\n",
    "37    0.010889\n",
    "38    0.008275\n",
    "39    0.010889"
   ]
  },
  {
   "cell_type": "code",
   "execution_count": 81,
   "id": "32896ada-73f3-443e-8cbe-c0c65b5fee4b",
   "metadata": {},
   "outputs": [],
   "source": [
    "#удалим все пустые строки\n",
    "dataset = dataset.dropna()"
   ]
  },
  {
   "cell_type": "code",
   "execution_count": null,
   "id": "52b8e8e8-f871-42a8-98ae-64b51c55fe30",
   "metadata": {},
   "outputs": [],
   "source": []
  }
 ],
 "metadata": {
  "kernelspec": {
   "display_name": "Python 3 (ipykernel)",
   "language": "python",
   "name": "python3"
  },
  "language_info": {
   "codemirror_mode": {
    "name": "ipython",
    "version": 3
   },
   "file_extension": ".py",
   "mimetype": "text/x-python",
   "name": "python",
   "nbconvert_exporter": "python",
   "pygments_lexer": "ipython3",
   "version": "3.11.6"
  }
 },
 "nbformat": 4,
 "nbformat_minor": 5
}
